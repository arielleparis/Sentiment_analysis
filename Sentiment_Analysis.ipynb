{
  "nbformat": 4,
  "nbformat_minor": 0,
  "metadata": {
    "colab": {
      "name": "Sentiment  Analysis.ipynb",
      "provenance": [],
      "authorship_tag": "ABX9TyNtJ5gyXk1CwNuZkZIAZ2Hr",
      "include_colab_link": true
    },
    "kernelspec": {
      "name": "python3",
      "display_name": "Python 3"
    },
    "language_info": {
      "name": "python"
    }
  },
  "cells": [
    {
      "cell_type": "markdown",
      "metadata": {
        "id": "view-in-github",
        "colab_type": "text"
      },
      "source": [
        "<a href=\"https://colab.research.google.com/github/ariellebriscoe8/Sentiment_analysis/blob/main/Sentiment_Analysis.ipynb\" target=\"_parent\"><img src=\"https://colab.research.google.com/assets/colab-badge.svg\" alt=\"Open In Colab\"/></a>"
      ]
    },
    {
      "cell_type": "code",
      "metadata": {
        "id": "ekQolUv7vp6D"
      },
      "source": [
        "import tweepy \n",
        "from textblob import TextBlob \n",
        "from wordcloud import WordCloud\n",
        "import pandas as pd\n",
        "import numpy as np\n",
        "import re\n",
        "import matplotlib.pyplot as plt\n",
        "plt.style.use('fivethirtyeight')"
      ],
      "execution_count": 1,
      "outputs": []
    },
    {
      "cell_type": "code",
      "metadata": {
        "id": "VvvYDBJ6vzJX"
      },
      "source": [
        "#Load Data\n",
        "from google.colab import files\n",
        "uploaded = files.upload"
      ],
      "execution_count": null,
      "outputs": []
    },
    {
      "cell_type": "code",
      "metadata": {
        "id": "wxl7FCvYvzMx"
      },
      "source": [
        "#Get the data\n",
        "log= pd.read_csv('Login.csv')"
      ],
      "execution_count": null,
      "outputs": []
    },
    {
      "cell_type": "code",
      "metadata": {
        "id": "HNA0_o3PvzRT"
      },
      "source": [
        "#Twitter API credentials\n",
        "consumerKey = log['key'][0]\n",
        "consumerSecret = log['key'][1]\n",
        "accessToken = log['key'][2]\n",
        "accessTokenSecret = log['key'][3]"
      ],
      "execution_count": null,
      "outputs": []
    },
    {
      "cell_type": "code",
      "metadata": {
        "id": "JesVxt9zv0Rq"
      },
      "source": [
        "#Create the authetentication object\n",
        "autheticate = tweepy.OAuthHandler(consumerKey, consumerSecret)\n",
        "\n",
        "#Set the access token and access token secret \n",
        "authenticate.set_acceess_token(accessToken,accessTokenSecret)\n",
        "\n",
        "#Create the API object whike passsing in the auth information\n",
        "api = tweepy.API(authenticate, wait_on_rate_limit= True)"
      ],
      "execution_count": null,
      "outputs": []
    },
    {
      "cell_type": "code",
      "metadata": {
        "id": "-22yTnbwv0tM"
      },
      "source": [
        "#Extract 100 tweets \n",
        "posts = api.user_timeline(screen_name = 'BillGates', count=100,\n",
        "                          lang= 'en', tweet_mode= \"extended\")\n",
        "\n",
        "#Print the last 5 tweets from the account\n",
        "print(\"Show the 5 recent tweets: \\n\")\n",
        "i = 1\n",
        "for tweet in posts[0:5]:\n",
        "  print(str(i)+ ') '+ tweet.full_text + '\\n')\n",
        "  i = i +1"
      ],
      "execution_count": null,
      "outputs": []
    },
    {
      "cell_type": "code",
      "metadata": {
        "id": "h06wIkPNv05k"
      },
      "source": [
        "#Create a dataframe with a column of tweets\n",
        "df.pd.DataFrame([tweet.full_text for tweet in posts], columms= ['Tweets'])\n",
        "\n",
        "#Show the first 5 rows of data\n",
        "df.head()"
      ],
      "execution_count": null,
      "outputs": []
    },
    {
      "cell_type": "code",
      "metadata": {
        "id": "bsiRnZaBv1bW"
      },
      "source": [
        "#Clean the text \n",
        "#Create a function to clean the tweets \n",
        "\n",
        "def cleanTxt(text)\n",
        "   text = re.sub(r'@[A-Za-z0-9]+', '', text) #Removes @\n",
        "   text = re.sub(r'#', '', text) #Removing the # \n",
        "   text = re.sub(r'RT[\\s]+', '', text) # Removing RT\n",
        "   text = re.sub(r'https?:\\/\\/\\S+', '', text)# Removing hyperlink\n",
        "\n",
        "   return text\n",
        "\n",
        "#Cleaning the text \n",
        "df['Tweets']= df['Tweets'].apply(cleanTxt)\n",
        "\n",
        "#Show the cleaned text\n",
        "df"
      ],
      "execution_count": null,
      "outputs": []
    },
    {
      "cell_type": "code",
      "metadata": {
        "id": "A8A-j0vVv11G"
      },
      "source": [
        "#NotFinished"
      ],
      "execution_count": null,
      "outputs": []
    },
    {
      "cell_type": "code",
      "metadata": {
        "id": "yVnzy8eXv2hg"
      },
      "source": [
        ""
      ],
      "execution_count": null,
      "outputs": []
    },
    {
      "cell_type": "code",
      "metadata": {
        "id": "bpGN8Cpnv29d"
      },
      "source": [
        ""
      ],
      "execution_count": null,
      "outputs": []
    },
    {
      "cell_type": "code",
      "metadata": {
        "id": "KO8tGphyv3BJ"
      },
      "source": [
        ""
      ],
      "execution_count": null,
      "outputs": []
    },
    {
      "cell_type": "code",
      "metadata": {
        "id": "Fo1OZQRwv3PF"
      },
      "source": [
        ""
      ],
      "execution_count": null,
      "outputs": []
    },
    {
      "cell_type": "code",
      "metadata": {
        "id": "6Dq4u08dv4Fs"
      },
      "source": [
        ""
      ],
      "execution_count": null,
      "outputs": []
    },
    {
      "cell_type": "code",
      "metadata": {
        "id": "AlVjv94av4JM"
      },
      "source": [
        ""
      ],
      "execution_count": null,
      "outputs": []
    },
    {
      "cell_type": "code",
      "metadata": {
        "id": "Bv8nloIGv5Bv"
      },
      "source": [
        ""
      ],
      "execution_count": null,
      "outputs": []
    },
    {
      "cell_type": "code",
      "metadata": {
        "id": "h3okgTDcv5FB"
      },
      "source": [
        ""
      ],
      "execution_count": null,
      "outputs": []
    },
    {
      "cell_type": "code",
      "metadata": {
        "id": "SYENezu0v0bT"
      },
      "source": [
        ""
      ],
      "execution_count": null,
      "outputs": []
    }
  ]
}